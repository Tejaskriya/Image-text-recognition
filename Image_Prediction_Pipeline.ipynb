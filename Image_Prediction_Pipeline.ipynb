{
 "cells": [
  {
   "cell_type": "code",
   "execution_count": 1,
   "metadata": {},
   "outputs": [],
   "source": [
    "from IPython.display import Image\n",
    "import numpy as np\n",
    "import pandas as pd\n",
    "import os \n",
    "import cv2\n",
    "from datetime import datetime\n",
    "import keras\n",
    "import random\n",
    "import matplotlib.pyplot as plt\n",
    "from collections import Counter\n",
    "import itertools\n",
    "from keras import backend as K\n",
    "from keras.layers import Input, Conv2D, MaxPool2D, Dense,MaxPooling2D,Bidirectional\n",
    "from keras.layers import AveragePooling2D, Flatten, Activation\n",
    "from keras.layers import BatchNormalization, Dropout\n",
    "from keras.layers import Concatenate, Add, Multiply, Lambda\n",
    "from keras.layers import UpSampling2D, Reshape\n",
    "from keras.layers import add,concatenate\n",
    "from keras.layers import Reshape\n",
    "from keras.models import Model\n",
    "from keras.layers import LSTM,GRU\n",
    "import tensorflow as tf\n",
    "import warnings\n",
    "warnings.filterwarnings(\"ignore\")"
   ]
  },
  {
   "cell_type": "code",
   "execution_count": 2,
   "metadata": {},
   "outputs": [],
   "source": [
    "test_data=pd.read_csv('sampled_data_100.csv') "
   ]
  },
  {
   "cell_type": "code",
   "execution_count": 3,
   "metadata": {},
   "outputs": [
    {
     "name": "stdout",
     "output_type": "stream",
     "text": [
      "(100, 2)\n"
     ]
    }
   ],
   "source": [
    "test_data.drop(['Unnamed: 0'],axis=1,inplace=True)\n",
    "print(test_data.shape)"
   ]
  },
  {
   "cell_type": "code",
   "execution_count": 4,
   "metadata": {},
   "outputs": [],
   "source": [
    "def preprocess(test_img):\n",
    "    test_img_resized=cv2.resize(test_img,(170,32))\n",
    "    test_image=test_img_resized[:,:,1]\n",
    "    test_image=test_image.T \n",
    "    test_image=np.expand_dims(test_image,axis=-1)\n",
    "    test_image=np.expand_dims(test_image, axis=0)\n",
    "    test_image=test_image/255\n",
    "    return test_image"
   ]
  },
  {
   "cell_type": "code",
   "execution_count": 5,
   "metadata": {},
   "outputs": [
    {
     "data": {
      "text/html": [
       "<div>\n",
       "<style scoped>\n",
       "    .dataframe tbody tr th:only-of-type {\n",
       "        vertical-align: middle;\n",
       "    }\n",
       "\n",
       "    .dataframe tbody tr th {\n",
       "        vertical-align: top;\n",
       "    }\n",
       "\n",
       "    .dataframe thead th {\n",
       "        text-align: right;\n",
       "    }\n",
       "</style>\n",
       "<table border=\"1\" class=\"dataframe\">\n",
       "  <thead>\n",
       "    <tr style=\"text-align: right;\">\n",
       "      <th></th>\n",
       "      <th>ImageName</th>\n",
       "      <th>Labels</th>\n",
       "    </tr>\n",
       "  </thead>\n",
       "  <tbody>\n",
       "    <tr>\n",
       "      <th>0</th>\n",
       "      <td>Test_data/1_BASEMAN.jpg</td>\n",
       "      <td>BASEMAN</td>\n",
       "    </tr>\n",
       "    <tr>\n",
       "      <th>1</th>\n",
       "      <td>Test_data/2_DIRECTS.jpg</td>\n",
       "      <td>DIRECTS</td>\n",
       "    </tr>\n",
       "    <tr>\n",
       "      <th>2</th>\n",
       "      <td>Test_data/3_lidless.jpg</td>\n",
       "      <td>LIDLESS</td>\n",
       "    </tr>\n",
       "    <tr>\n",
       "      <th>3</th>\n",
       "      <td>Test_data/4_riposte.jpg</td>\n",
       "      <td>RIPOSTE</td>\n",
       "    </tr>\n",
       "    <tr>\n",
       "      <th>4</th>\n",
       "      <td>Test_data/5_Smudges.jpg</td>\n",
       "      <td>SMUDGES</td>\n",
       "    </tr>\n",
       "  </tbody>\n",
       "</table>\n",
       "</div>"
      ],
      "text/plain": [
       "                 ImageName   Labels\n",
       "0  Test_data/1_BASEMAN.jpg  BASEMAN\n",
       "1  Test_data/2_DIRECTS.jpg  DIRECTS\n",
       "2  Test_data/3_lidless.jpg  LIDLESS\n",
       "3  Test_data/4_riposte.jpg  RIPOSTE\n",
       "4  Test_data/5_Smudges.jpg  SMUDGES"
      ]
     },
     "execution_count": 5,
     "metadata": {},
     "output_type": "execute_result"
    }
   ],
   "source": [
    "test_data.head()"
   ]
  },
  {
   "cell_type": "code",
   "execution_count": 6,
   "metadata": {},
   "outputs": [],
   "source": [
    "letters= '0123456789ABCDEFGHIJKLMNOPQRSTUVWXYZ'"
   ]
  },
  {
   "cell_type": "code",
   "execution_count": 7,
   "metadata": {},
   "outputs": [],
   "source": [
    "def words_from_labels(labels):\n",
    "    txt=[]\n",
    "    for ele in labels:\n",
    "        if ele == len(letters): \n",
    "            txt.append(\"\")\n",
    "        else:\n",
    "            txt.append(letters[ele])\n",
    "    return \"\".join(txt)"
   ]
  },
  {
   "cell_type": "code",
   "execution_count": 8,
   "metadata": {},
   "outputs": [],
   "source": [
    "def decode_label(out):\n",
    "    out_best = list(np.argmax(out[0,2:], axis=1))\n",
    "\n",
    "    out_best = [k for k, g in itertools.groupby(out_best)]  \n",
    "\n",
    "    outstr=words_from_labels(out_best)\n",
    "    return outstr"
   ]
  },
  {
   "cell_type": "code",
   "execution_count": 9,
   "metadata": {},
   "outputs": [],
   "source": [
    "img_h=32\n",
    "img_w=170\n",
    "img_c=1\n",
    "num_classes=len(letters)+1\n",
    "batch_size=64\n",
    "max_length=15"
   ]
  },
  {
   "cell_type": "code",
   "execution_count": 10,
   "metadata": {},
   "outputs": [],
   "source": [
    "def model_create(drop_out_rate=0.35):\n",
    "    \n",
    "    if K.image_data_format() == 'channels_first':\n",
    "        input_shape = (1, img_w, img_h)\n",
    "    else:\n",
    "        input_shape = (img_w, img_h, 1)\n",
    "       \n",
    "    model_input=Input(shape=input_shape,name='img_input',dtype='float32')\n",
    "\n",
    "    model = Conv2D(64, (3, 3), padding='same', name='conv1', kernel_initializer='he_normal')(model_input) \n",
    "    model = BatchNormalization()(model)\n",
    "    model = Activation('relu')(model)\n",
    "    model = MaxPooling2D(pool_size=(2, 2), name='max1')(model) \n",
    "\n",
    "    model = Conv2D(128, (3, 3), padding='same', name='conv2', kernel_initializer='he_normal')(model) \n",
    "    model = BatchNormalization()(model)\n",
    "    model = Activation('relu')(model)\n",
    "    model = MaxPooling2D(pool_size=(2, 2), name='max2')(model) \n",
    "\n",
    "    model = Conv2D(256, (3, 3), padding='same', name='conv3', kernel_initializer='he_normal')(model) \n",
    "    model = BatchNormalization()(model)\n",
    "    model = Activation('relu')(model)\n",
    "\n",
    "    model = Conv2D(256, (3, 3), padding='same', name='conv4', kernel_initializer='he_normal')(model)\n",
    "    model=Dropout(drop_out_rate)(model)\n",
    "    model = BatchNormalization()(model)\n",
    "    model = Activation('relu')(model)\n",
    "    model = MaxPooling2D(pool_size=(1, 2), name='max3')(model)  \n",
    "\n",
    "    model = Conv2D(512, (3, 3), padding='same', name='conv5', kernel_initializer='he_normal')(model) \n",
    "    model = BatchNormalization()(model)\n",
    "    model = Activation('relu')(model)\n",
    "    \n",
    "    model = Conv2D(512, (3, 3), padding='same', name='conv6')(model)\n",
    "    model=Dropout(drop_out_rate)(model)\n",
    "    model = BatchNormalization()(model)\n",
    "    model = Activation('relu')(model)\n",
    "    model = MaxPooling2D(pool_size=(1, 2), name='max4')(model) \n",
    "\n",
    "    model = Conv2D(512, (2, 2), padding='same', kernel_initializer='he_normal', name='con7')(model)\n",
    "    model=Dropout(0.25)(model)\n",
    "    model = BatchNormalization()(model)\n",
    "    model = Activation('relu')(model)    \n",
    "\n",
    "    model = Reshape(target_shape=((42, 1024)), name='reshape')(model)  \n",
    "    model = Dense(64, activation='relu', kernel_initializer='he_normal', name='dense1')(model)  \n",
    "\n",
    "    model=Bidirectional(LSTM(256, return_sequences=True, kernel_initializer='he_normal'), merge_mode='sum')(model)\n",
    "    model=Bidirectional(LSTM(256, return_sequences=True, kernel_initializer='he_normal'), merge_mode='concat')(model)\n",
    "\n",
    "    model = Dense(num_classes, kernel_initializer='he_normal',name='dense2')(model) \n",
    "    y_pred = Activation('softmax', name='softmax')(model)\n",
    "\n",
    "    return Model(inputs=[model_input], outputs=y_pred)"
   ]
  },
  {
   "cell_type": "code",
   "execution_count": 11,
   "metadata": {},
   "outputs": [],
   "source": [
    "def test_data_single_image_Prediction(model,test_img_path):\n",
    "    start=datetime.now()\n",
    "    test_img=cv2.imread(test_img_path)\n",
    "    test_image=preprocess(test_img)\n",
    "    model_output=model.predict(test_image)\n",
    "    predicted_output=decode_label(model_output)\n",
    "    print(\"Predicted Text in the Image: \", predicted_output)\n",
    "    print(\"Time Taken for Processing: \",datetime.now()-start)    "
   ]
  },
  {
   "cell_type": "code",
   "execution_count": 12,
   "metadata": {},
   "outputs": [],
   "source": [
    "def test_data_multiple_image_Prediction(model,test_img_names,test_labels,total):\n",
    "    start=datetime.now()\n",
    "    accuracy=0\n",
    "    letter_acc=0\n",
    "    letter_cnt=0\n",
    "    count=0\n",
    "    for i in range(len(test_labels)):\n",
    "        test_img=cv2.imread(test_img_names[i])\n",
    "        test_image=preprocess(test_img)\n",
    "        model_output=model.predict(test_image)\n",
    "        predicted_output=decode_label(model_output)\n",
    "        actual_output=test_labels[i]\n",
    "        count+=1\n",
    "        for j in range(min(len(predicted_output),len(actual_output))):\n",
    "            if predicted_output[j]==actual_output[j]:\n",
    "                letter_acc+=1\n",
    "        letter_cnt+=max(len(predicted_output),len(actual_output))\n",
    "        if actual_output==predicted_output:\n",
    "            accuracy+=1\n",
    "        print(\"-\"*80)\n",
    "        print(\"Actual Text: \",actual_output,\"   Predicted Text: \",predicted_output)\n",
    "    print(\"=\"*80)\n",
    "    print(\"Model Output Accuracy: \",(accuracy/total)*100, \" %\")\n",
    "    print(\"Model Output Letter Accuracy: \",(letter_acc/letter_cnt)*100, \" %\")\n",
    "    print(\"Time Taken for Processing: \",datetime.now()-start)"
   ]
  },
  {
   "cell_type": "code",
   "execution_count": 13,
   "metadata": {},
   "outputs": [],
   "source": [
    "model=model_create()"
   ]
  },
  {
   "cell_type": "code",
   "execution_count": 14,
   "metadata": {},
   "outputs": [
    {
     "name": "stdout",
     "output_type": "stream",
     "text": [
      "Model: \"model\"\n",
      "_________________________________________________________________\n",
      " Layer (type)                Output Shape              Param #   \n",
      "=================================================================\n",
      " img_input (InputLayer)      [(None, 170, 32, 1)]      0         \n",
      "                                                                 \n",
      " conv1 (Conv2D)              (None, 170, 32, 64)       640       \n",
      "                                                                 \n",
      " batch_normalization (BatchN  (None, 170, 32, 64)      256       \n",
      " ormalization)                                                   \n",
      "                                                                 \n",
      " activation (Activation)     (None, 170, 32, 64)       0         \n",
      "                                                                 \n",
      " max1 (MaxPooling2D)         (None, 85, 16, 64)        0         \n",
      "                                                                 \n",
      " conv2 (Conv2D)              (None, 85, 16, 128)       73856     \n",
      "                                                                 \n",
      " batch_normalization_1 (Batc  (None, 85, 16, 128)      512       \n",
      " hNormalization)                                                 \n",
      "                                                                 \n",
      " activation_1 (Activation)   (None, 85, 16, 128)       0         \n",
      "                                                                 \n",
      " max2 (MaxPooling2D)         (None, 42, 8, 128)        0         \n",
      "                                                                 \n",
      " conv3 (Conv2D)              (None, 42, 8, 256)        295168    \n",
      "                                                                 \n",
      " batch_normalization_2 (Batc  (None, 42, 8, 256)       1024      \n",
      " hNormalization)                                                 \n",
      "                                                                 \n",
      " activation_2 (Activation)   (None, 42, 8, 256)        0         \n",
      "                                                                 \n",
      " conv4 (Conv2D)              (None, 42, 8, 256)        590080    \n",
      "                                                                 \n",
      " dropout (Dropout)           (None, 42, 8, 256)        0         \n",
      "                                                                 \n",
      " batch_normalization_3 (Batc  (None, 42, 8, 256)       1024      \n",
      " hNormalization)                                                 \n",
      "                                                                 \n",
      " activation_3 (Activation)   (None, 42, 8, 256)        0         \n",
      "                                                                 \n",
      " max3 (MaxPooling2D)         (None, 42, 4, 256)        0         \n",
      "                                                                 \n",
      " conv5 (Conv2D)              (None, 42, 4, 512)        1180160   \n",
      "                                                                 \n",
      " batch_normalization_4 (Batc  (None, 42, 4, 512)       2048      \n",
      " hNormalization)                                                 \n",
      "                                                                 \n",
      " activation_4 (Activation)   (None, 42, 4, 512)        0         \n",
      "                                                                 \n",
      " conv6 (Conv2D)              (None, 42, 4, 512)        2359808   \n",
      "                                                                 \n",
      " dropout_1 (Dropout)         (None, 42, 4, 512)        0         \n",
      "                                                                 \n",
      " batch_normalization_5 (Batc  (None, 42, 4, 512)       2048      \n",
      " hNormalization)                                                 \n",
      "                                                                 \n",
      " activation_5 (Activation)   (None, 42, 4, 512)        0         \n",
      "                                                                 \n",
      " max4 (MaxPooling2D)         (None, 42, 2, 512)        0         \n",
      "                                                                 \n",
      " con7 (Conv2D)               (None, 42, 2, 512)        1049088   \n",
      "                                                                 \n",
      " dropout_2 (Dropout)         (None, 42, 2, 512)        0         \n",
      "                                                                 \n",
      " batch_normalization_6 (Batc  (None, 42, 2, 512)       2048      \n",
      " hNormalization)                                                 \n",
      "                                                                 \n",
      " activation_6 (Activation)   (None, 42, 2, 512)        0         \n",
      "                                                                 \n",
      " reshape (Reshape)           (None, 42, 1024)          0         \n",
      "                                                                 \n",
      " dense1 (Dense)              (None, 42, 64)            65600     \n",
      "                                                                 \n",
      " bidirectional (Bidirectiona  (None, 42, 256)          657408    \n",
      " l)                                                              \n",
      "                                                                 \n",
      " bidirectional_1 (Bidirectio  (None, 42, 512)          1050624   \n",
      " nal)                                                            \n",
      "                                                                 \n",
      " dense2 (Dense)              (None, 42, 37)            18981     \n",
      "                                                                 \n",
      " softmax (Activation)        (None, 42, 37)            0         \n",
      "                                                                 \n",
      "=================================================================\n",
      "Total params: 7,350,373\n",
      "Trainable params: 7,345,893\n",
      "Non-trainable params: 4,480\n",
      "_________________________________________________________________\n"
     ]
    }
   ],
   "source": [
    "model.summary()"
   ]
  },
  {
   "cell_type": "code",
   "execution_count": 15,
   "metadata": {},
   "outputs": [],
   "source": [
    "model.load_weights('Best_Img_recog_LSTM_Adam_model_run_weights.h5')"
   ]
  },
  {
   "cell_type": "code",
   "execution_count": null,
   "metadata": {},
   "outputs": [],
   "source": [
    "print(xyz)"
   ]
  },
  {
   "cell_type": "code",
   "execution_count": 17,
   "metadata": {},
   "outputs": [],
   "source": [
    "test_image_0='Test_data/3_lidless.jpg'"
   ]
  },
  {
   "cell_type": "code",
   "execution_count": 41,
   "metadata": {},
   "outputs": [
    {
     "data": {
      "image/jpeg": "[encoded data removed]",
      "text/plain": [
       "<IPython.core.display.Image object>"
      ]
     },
     "execution_count": 41,
     "metadata": {},
     "output_type": "execute_result"
    }
   ],
   "source": [
    "Image(test_image_0)"
   ]
  },
  {
   "cell_type": "code",
   "execution_count": 42,
   "metadata": {},
   "outputs": [
    {
     "name": "stdout",
     "output_type": "stream",
     "text": [
      "1/1 [==============================] - 0s 67ms/step\n",
      "Predicted Text in the Image:  LIDLESS\n",
      "Time Taken for Processing:  0:00:00.110602\n"
     ]
    }
   ],
   "source": [
    "test_data_single_image_Prediction(model,test_image_0)"
   ]
  },
  {
   "cell_type": "code",
   "execution_count": 20,
   "metadata": {},
   "outputs": [],
   "source": [
    "test_image_1='Test_Data/84_COMPOSEDLY.jpg'"
   ]
  },
  {
   "cell_type": "code",
   "execution_count": 43,
   "metadata": {},
   "outputs": [
    {
     "data": {
      "image/jpeg": "[encoded data removed]",
      "text/plain": [
       "<IPython.core.display.Image object>"
      ]
     },
     "execution_count": 43,
     "metadata": {},
     "output_type": "execute_result"
    }
   ],
   "source": [
    "Image(test_image_1)"
   ]
  },
  {
   "cell_type": "code",
   "execution_count": 44,
   "metadata": {},
   "outputs": [
    {
     "name": "stdout",
     "output_type": "stream",
     "text": [
      "1/1 [==============================] - 0s 84ms/step\n",
      "Predicted Text in the Image:  COMPOSEOLY\n",
      "Time Taken for Processing:  0:00:00.154076\n"
     ]
    }
   ],
   "source": [
    "test_data_single_image_Prediction(model,test_image_1)"
   ]
  },
  {
   "cell_type": "code",
   "execution_count": 48,
   "metadata": {},
   "outputs": [],
   "source": [
    "test_image_2='Test_data/99_EVANGELISTS.jpg'"
   ]
  },
  {
   "cell_type": "code",
   "execution_count": 49,
   "metadata": {},
   "outputs": [
    {
     "data": {
      "image/jpeg": "[encoded data removed]",
      "text/plain": [
       "<IPython.core.display.Image object>"
      ]
     },
     "execution_count": 49,
     "metadata": {},
     "output_type": "execute_result"
    }
   ],
   "source": [
    "Image(test_image_2)"
   ]
  },
  {
   "cell_type": "code",
   "execution_count": 50,
   "metadata": {},
   "outputs": [
    {
     "name": "stdout",
     "output_type": "stream",
     "text": [
      "1/1 [==============================] - 0s 73ms/step\n",
      "Predicted Text in the Image:  ERANCELETS\n",
      "Time Taken for Processing:  0:00:00.140825\n"
     ]
    }
   ],
   "source": [
    "test_data_single_image_Prediction(model,test_image_2)"
   ]
  },
  {
   "cell_type": "code",
   "execution_count": null,
   "metadata": {},
   "outputs": [],
   "source": [
    "demoimg='demoaimages/36.jpg'\n",
    "Image(demoimg)"
   ]
  },
  {
   "cell_type": "code",
   "execution_count": null,
   "metadata": {},
   "outputs": [],
   "source": [
    "test_data_single_image_Prediction(model,test_image_2)"
   ]
  },
  {
   "cell_type": "code",
   "execution_count": 26,
   "metadata": {},
   "outputs": [],
   "source": [
    "test_img_paths=test_data['ImageName'].values\n",
    "test_img_labels=test_data['Labels'].values\n",
    "total=100"
   ]
  },
  {
   "cell_type": "code",
   "execution_count": 51,
   "metadata": {},
   "outputs": [
    {
     "name": "stdout",
     "output_type": "stream",
     "text": [
      "1/1 [==============================] - 0s 66ms/step\n",
      "--------------------------------------------------------------------------------\n",
      "Actual Text:  WHAT    Predicted Text:  WHAT\n",
      "1/1 [==============================] - 0s 68ms/step\n",
      "--------------------------------------------------------------------------------\n",
      "Actual Text:  MEMOREX    Predicted Text:  MEMOREX\n",
      "1/1 [==============================] - 0s 115ms/step\n",
      "--------------------------------------------------------------------------------\n",
      "Actual Text:  COMPACT    Predicted Text:  COMPACT\n",
      "1/1 [==============================] - 0s 114ms/step\n",
      "--------------------------------------------------------------------------------\n",
      "Actual Text:  PROFESSIONAL    Predicted Text:  PROFESSIONAL\n",
      "1/1 [==============================] - 0s 113ms/step\n",
      "--------------------------------------------------------------------------------\n",
      "Actual Text:  RECORDABLE    Predicted Text:  RECORDABLE\n",
      "1/1 [==============================] - 0s 98ms/step\n",
      "--------------------------------------------------------------------------------\n",
      "Actual Text:  EUROPE    Predicted Text:  EUROPE\n",
      "1/1 [==============================] - 0s 88ms/step\n",
      "--------------------------------------------------------------------------------\n",
      "Actual Text:  PRODUCTS    Predicted Text:  PRODUCTS\n",
      "1/1 [==============================] - 0s 96ms/step\n",
      "--------------------------------------------------------------------------------\n",
      "Actual Text:  COMPATIBLE    Predicted Text:  COMPATIBLE\n",
      "1/1 [==============================] - 0s 99ms/step\n",
      "--------------------------------------------------------------------------------\n",
      "Actual Text:  IMPORTED    Predicted Text:  IMPORTED\n",
      "1/1 [==============================] - 0s 116ms/step\n",
      "--------------------------------------------------------------------------------\n",
      "Actual Text:  5    Predicted Text:  S\n",
      "1/1 [==============================] - 0s 82ms/step\n",
      "--------------------------------------------------------------------------------\n",
      "Actual Text:  TESCO    Predicted Text:  TESCO\n",
      "1/1 [==============================] - 0s 86ms/step\n",
      "--------------------------------------------------------------------------------\n",
      "Actual Text:  VALUE    Predicted Text:  VALUE\n",
      "1/1 [==============================] - 0s 100ms/step\n",
      "--------------------------------------------------------------------------------\n",
      "Actual Text:  WASHING    Predicted Text:  WASHING\n",
      "1/1 [==============================] - 0s 95ms/step\n",
      "--------------------------------------------------------------------------------\n",
      "Actual Text:  UP    Predicted Text:  ASP\n",
      "1/1 [==============================] - 0s 86ms/step\n",
      "--------------------------------------------------------------------------------\n",
      "Actual Text:  LIQUID    Predicted Text:  LIQUID\n",
      "1/1 [==============================] - 0s 111ms/step\n",
      "--------------------------------------------------------------------------------\n",
      "Actual Text:  SAFETY    Predicted Text:  SAFETY\n",
      "1/1 [==============================] - 0s 100ms/step\n",
      "--------------------------------------------------------------------------------\n",
      "Actual Text:  NOTICE    Predicted Text:  MOEE\n",
      "1/1 [==============================] - 0s 125ms/step\n",
      "--------------------------------------------------------------------------------\n",
      "Actual Text:  STOP    Predicted Text:  STOP\n",
      "1/1 [==============================] - 0s 118ms/step\n",
      "--------------------------------------------------------------------------------\n",
      "Actual Text:  PEPSI    Predicted Text:  FACEA\n",
      "1/1 [==============================] - 0s 108ms/step\n",
      "--------------------------------------------------------------------------------\n",
      "Actual Text:  SMOKIN    Predicted Text:  SMOKIN\n",
      "1/1 [==============================] - 0s 52ms/step\n",
      "--------------------------------------------------------------------------------\n",
      "Actual Text:  DISC    Predicted Text:  DISC\n",
      "1/1 [==============================] - 0s 109ms/step\n",
      "--------------------------------------------------------------------------------\n",
      "Actual Text:  PRODUCTS    Predicted Text:  PRODUCTS\n",
      "1/1 [==============================] - 0s 59ms/step\n",
      "--------------------------------------------------------------------------------\n",
      "Actual Text:  EUROPE    Predicted Text:  EUROPE\n",
      "1/1 [==============================] - 0s 72ms/step\n",
      "--------------------------------------------------------------------------------\n",
      "Actual Text:  BECOME    Predicted Text:  BECOME\n",
      "1/1 [==============================] - 0s 46ms/step\n",
      "--------------------------------------------------------------------------------\n",
      "Actual Text:  JACOBSON    Predicted Text:  JACOBSON\n",
      "1/1 [==============================] - 0s 52ms/step\n",
      "--------------------------------------------------------------------------------\n",
      "Actual Text:  RECORDS    Predicted Text:  RECORDS\n",
      "================================================================================\n",
      "Model Output Accuracy:  84.61538461538461  %\n",
      "Model Output Letter Accuracy:  91.51515151515152  %\n",
      "Time Taken for Processing:  0:00:04.134481\n"
     ]
    }
   ],
   "source": [
    "test_data_multiple_image_Prediction(model,test_img_paths,test_img_labels,total)"
   ]
  },
  {
   "cell_type": "code",
   "execution_count": 28,
   "metadata": {},
   "outputs": [],
   "source": [
    "testimage='D:\\\\Final-yr-Proj\\\\CODE\\\\word\\\\word\\\\1\\\\73.jpg'"
   ]
  },
  {
   "cell_type": "code",
   "execution_count": 29,
   "metadata": {},
   "outputs": [
    {
     "data": {
      "image/jpeg": "[encoded data removed]",
      "text/plain": [
       "<IPython.core.display.Image object>"
      ]
     },
     "execution_count": 29,
     "metadata": {},
     "output_type": "execute_result"
    }
   ],
   "source": [
    "Image(testimage)"
   ]
  },
  {
   "cell_type": "code",
   "execution_count": 30,
   "metadata": {},
   "outputs": [
    {
     "name": "stdout",
     "output_type": "stream",
     "text": [
      "1/1 [==============================] - 0s 56ms/step\n",
      "Predicted Text in the Image:  WASHING\n",
      "Time Taken for Processing:  0:00:00.098033\n"
     ]
    }
   ],
   "source": [
    "test_data_single_image_Prediction(model,testimage)"
   ]
  },
  {
   "cell_type": "code",
   "execution_count": null,
   "metadata": {},
   "outputs": [],
   "source": [
    "print(xyz)"
   ]
  },
  {
   "cell_type": "code",
   "execution_count": 32,
   "metadata": {},
   "outputs": [],
   "source": [
    "test_data2=pd.read_csv('demo_data.csv') "
   ]
  },
  {
   "cell_type": "code",
   "execution_count": 33,
   "metadata": {},
   "outputs": [
    {
     "name": "stdout",
     "output_type": "stream",
     "text": [
      "(26, 2)\n"
     ]
    }
   ],
   "source": [
    "test_data2.drop(['Unnamed: 0'],axis=1,inplace=True)\n",
    "print(test_data2.shape)"
   ]
  },
  {
   "cell_type": "code",
   "execution_count": 34,
   "metadata": {},
   "outputs": [
    {
     "data": {
      "text/html": [
       "<div>\n",
       "<style scoped>\n",
       "    .dataframe tbody tr th:only-of-type {\n",
       "        vertical-align: middle;\n",
       "    }\n",
       "\n",
       "    .dataframe tbody tr th {\n",
       "        vertical-align: top;\n",
       "    }\n",
       "\n",
       "    .dataframe thead th {\n",
       "        text-align: right;\n",
       "    }\n",
       "</style>\n",
       "<table border=\"1\" class=\"dataframe\">\n",
       "  <thead>\n",
       "    <tr style=\"text-align: right;\">\n",
       "      <th></th>\n",
       "      <th>ImageName</th>\n",
       "      <th>Labels</th>\n",
       "    </tr>\n",
       "  </thead>\n",
       "  <tbody>\n",
       "    <tr>\n",
       "      <th>0</th>\n",
       "      <td>demoaimages/img1.jpg</td>\n",
       "      <td>WHAT</td>\n",
       "    </tr>\n",
       "    <tr>\n",
       "      <th>1</th>\n",
       "      <td>demoaimages/33.jpg</td>\n",
       "      <td>MEMOREX</td>\n",
       "    </tr>\n",
       "    <tr>\n",
       "      <th>2</th>\n",
       "      <td>demoaimages/34.jpg</td>\n",
       "      <td>COMPACT</td>\n",
       "    </tr>\n",
       "    <tr>\n",
       "      <th>3</th>\n",
       "      <td>demoaimages/38.jpg</td>\n",
       "      <td>PROFESSIONAL</td>\n",
       "    </tr>\n",
       "    <tr>\n",
       "      <th>4</th>\n",
       "      <td>demoaimages/36.jpg</td>\n",
       "      <td>RECORDABLE</td>\n",
       "    </tr>\n",
       "  </tbody>\n",
       "</table>\n",
       "</div>"
      ],
      "text/plain": [
       "              ImageName        Labels\n",
       "0  demoaimages/img1.jpg          WHAT\n",
       "1    demoaimages/33.jpg       MEMOREX\n",
       "2    demoaimages/34.jpg       COMPACT\n",
       "3    demoaimages/38.jpg  PROFESSIONAL\n",
       "4    demoaimages/36.jpg    RECORDABLE"
      ]
     },
     "execution_count": 34,
     "metadata": {},
     "output_type": "execute_result"
    }
   ],
   "source": [
    "test_data2.head()"
   ]
  },
  {
   "cell_type": "code",
   "execution_count": 35,
   "metadata": {},
   "outputs": [],
   "source": [
    "test_img_paths=test_data2['ImageName'].values\n",
    "test_img_labels=test_data2['Labels'].values\n",
    "total=26"
   ]
  },
  {
   "cell_type": "code",
   "execution_count": 36,
   "metadata": {},
   "outputs": [
    {
     "name": "stdout",
     "output_type": "stream",
     "text": [
      "1/1 [==============================] - 0s 100ms/step\n",
      "--------------------------------------------------------------------------------\n",
      "Actual Text:  WHAT    Predicted Text:  WHAT\n",
      "1/1 [==============================] - 0s 79ms/step\n",
      "--------------------------------------------------------------------------------\n",
      "Actual Text:  MEMOREX    Predicted Text:  MEMOREX\n",
      "1/1 [==============================] - 0s 84ms/step\n",
      "--------------------------------------------------------------------------------\n",
      "Actual Text:  COMPACT    Predicted Text:  COMPACT\n",
      "1/1 [==============================] - 0s 57ms/step\n",
      "--------------------------------------------------------------------------------\n",
      "Actual Text:  PROFESSIONAL    Predicted Text:  PROFESSIONAL\n",
      "1/1 [==============================] - 0s 65ms/step\n",
      "--------------------------------------------------------------------------------\n",
      "Actual Text:  RECORDABLE    Predicted Text:  RECORDABLE\n",
      "1/1 [==============================] - 0s 50ms/step\n",
      "--------------------------------------------------------------------------------\n",
      "Actual Text:  EUROPE    Predicted Text:  EUROPE\n",
      "1/1 [==============================] - 0s 53ms/step\n",
      "--------------------------------------------------------------------------------\n",
      "Actual Text:  PRODUCTS    Predicted Text:  PRODUCTS\n",
      "1/1 [==============================] - 0s 47ms/step\n",
      "--------------------------------------------------------------------------------\n",
      "Actual Text:  COMPATIBLE    Predicted Text:  COMPATIBLE\n",
      "1/1 [==============================] - 0s 104ms/step\n",
      "--------------------------------------------------------------------------------\n",
      "Actual Text:  IMPORTED    Predicted Text:  IMPORTED\n",
      "1/1 [==============================] - 0s 67ms/step\n",
      "--------------------------------------------------------------------------------\n",
      "Actual Text:  5    Predicted Text:  S\n",
      "1/1 [==============================] - 0s 76ms/step\n",
      "--------------------------------------------------------------------------------\n",
      "Actual Text:  TESCO    Predicted Text:  TESCO\n",
      "1/1 [==============================] - 0s 60ms/step\n",
      "--------------------------------------------------------------------------------\n",
      "Actual Text:  VALUE    Predicted Text:  VALUE\n",
      "1/1 [==============================] - 0s 116ms/step\n",
      "--------------------------------------------------------------------------------\n",
      "Actual Text:  WASHING    Predicted Text:  WASHING\n",
      "1/1 [==============================] - 0s 86ms/step\n",
      "--------------------------------------------------------------------------------\n",
      "Actual Text:  UP    Predicted Text:  ASP\n",
      "1/1 [==============================] - 0s 67ms/step\n",
      "--------------------------------------------------------------------------------\n",
      "Actual Text:  LIQUID    Predicted Text:  LIQUID\n",
      "1/1 [==============================] - 0s 62ms/step\n",
      "--------------------------------------------------------------------------------\n",
      "Actual Text:  SAFETY    Predicted Text:  SAFETY\n",
      "1/1 [==============================] - 0s 58ms/step\n",
      "--------------------------------------------------------------------------------\n",
      "Actual Text:  NOTICE    Predicted Text:  MOEE\n",
      "1/1 [==============================] - 0s 68ms/step\n",
      "--------------------------------------------------------------------------------\n",
      "Actual Text:  STOP    Predicted Text:  STOP\n",
      "1/1 [==============================] - 0s 51ms/step\n",
      "--------------------------------------------------------------------------------\n",
      "Actual Text:  PEPSI    Predicted Text:  FACEA\n",
      "1/1 [==============================] - 0s 69ms/step\n",
      "--------------------------------------------------------------------------------\n",
      "Actual Text:  SMOKIN    Predicted Text:  SMOKIN\n",
      "1/1 [==============================] - 0s 70ms/step\n",
      "--------------------------------------------------------------------------------\n",
      "Actual Text:  DISC    Predicted Text:  DISC\n",
      "1/1 [==============================] - 0s 91ms/step\n",
      "--------------------------------------------------------------------------------\n",
      "Actual Text:  PRODUCTS    Predicted Text:  PRODUCTS\n",
      "1/1 [==============================] - 0s 89ms/step\n",
      "--------------------------------------------------------------------------------\n",
      "Actual Text:  EUROPE    Predicted Text:  EUROPE\n",
      "1/1 [==============================] - 0s 99ms/step\n",
      "--------------------------------------------------------------------------------\n",
      "Actual Text:  BECOME    Predicted Text:  BECOME\n",
      "1/1 [==============================] - 0s 70ms/step\n",
      "--------------------------------------------------------------------------------\n",
      "Actual Text:  JACOBSON    Predicted Text:  JACOBSON\n",
      "1/1 [==============================] - 0s 51ms/step\n",
      "--------------------------------------------------------------------------------\n",
      "Actual Text:  RECORDS    Predicted Text:  RECORDS\n",
      "================================================================================\n",
      "Model Output Accuracy:  84.61538461538461  %\n",
      "Model Output Letter Accuracy:  91.51515151515152  %\n",
      "Time Taken for Processing:  0:00:03.794056\n"
     ]
    }
   ],
   "source": [
    "test_data_multiple_image_Prediction(model,test_img_paths,test_img_labels,total)"
   ]
  }
 ],
 "metadata": {
  "kernelspec": {
   "display_name": "Python 3",
   "language": "python",
   "name": "python3"
  },
  "language_info": {
   "codemirror_mode": {
    "name": "ipython",
    "version": 3
   },
   "file_extension": ".py",
   "mimetype": "text/x-python",
   "name": "python",
   "nbconvert_exporter": "python",
   "pygments_lexer": "ipython3",
   "version": "3.10.4"
  }
 },
 "nbformat": 4,
 "nbformat_minor": 2
}
